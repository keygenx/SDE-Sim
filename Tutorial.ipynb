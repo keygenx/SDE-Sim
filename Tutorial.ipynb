{
 "cells": [
  {
   "cell_type": "markdown",
   "id": "bbe87ad5",
   "metadata": {},
   "source": [
    "# 1 Dimensional Example"
   ]
  },
  {
   "cell_type": "code",
   "execution_count": 1,
   "id": "41ad8b10",
   "metadata": {},
   "outputs": [],
   "source": [
    "from SDEsim import SDE, SDE_ND\n",
    "import numpy as np"
   ]
  },
  {
   "cell_type": "code",
   "execution_count": 2,
   "id": "38f2c2fe",
   "metadata": {},
   "outputs": [
    {
     "name": "stdout",
     "output_type": "stream",
     "text": [
      "Help on class SDE in module SDEsim.SDE:\n",
      "\n",
      "class SDE(builtins.object)\n",
      " |  SDE(num_par: int, **kwargs)\n",
      " |  \n",
      " |  A class for simulating Autonomous SDEs using the Ito Scheme.\n",
      " |  The following arguments are possilbe:\n",
      " |  > num_par: int/long, number of parallel simulations to run.\n",
      " |  > method: string, available methods: 'euler_maruyama', 'milstein' (default), 'taylor_15'\n",
      " |  > dtype: string, available dtypes: 'float32', 'float64' (default)\n",
      " |  > device: string, available devices: 'cpu', 'cuda' (default)\n",
      " |  > adaptive_stepping: bool, True (default) turns on adaptive time steps.\n",
      " |  > tolerance: float, local error tolerance for adaptive stepping. Default value = 1e-3\n",
      " |  > dt_init: float, initial step size. Deafult value = 1e-10\n",
      " |  \n",
      " |  Methods defined here:\n",
      " |  \n",
      " |  __init__(self, num_par: int, **kwargs)\n",
      " |      Initialize self.  See help(type(self)) for accurate signature.\n",
      " |  \n",
      " |  save_data(self, output_directory, filename)\n",
      " |      The data is saved as a dictionary. Use pickle to load the saved data.\n",
      " |      info_rate is saved as an multi dimensional array with each column representing 2 different estimates.\n",
      " |      2nd column calculated using symmetrized KL diveregence. 1st column using an approximation of this expression.\n",
      " |      If the attribute guass_estimate = True, 3rd column represents an approximation assuming gaussian distribution.\n",
      " |  \n",
      " |  set_functions(self, f, g, df=None, dg=None, d2f=None, d2g=None)\n",
      " |      This method is used to set the drift and diffusion functions in an SDE.\n",
      " |      > f: function, drift function\n",
      " |      > g: function, diffusion function\n",
      " |      > df: function, 1st derivative of drift function\n",
      " |      > dg: function, 1st derivative of diffusion function\n",
      " |      > d2f: function, 2nd derivative of drift function\n",
      " |      > d2g: function, 2nd derivative of diffusion function\n",
      " |      \n",
      " |      The derivative arguments are optional and will be consider as 0 if not provided.\n",
      " |      'euler_maruyama' method requires f and g.\n",
      " |      'milstein' method requires f, g and dg (default method).\n",
      " |      'taylor_15' method requires f, g, df, dg, d2f and d2g.\n",
      " |      \n",
      " |      If information rate of velocity is being measured, df is required. This will be fixed in the future.\n",
      " |  \n",
      " |  set_stats(self, **kwargs)\n",
      " |      This method is used to set the statistics thate need to be measured during the simulation.\n",
      " |      The Following arguments are possible:\n",
      " |      > density = True/False, Calculate probability density \n",
      " |      > density_v = True/False, Calculate probability density of velocity \n",
      " |      > mean = True/False, Calculate mean \n",
      " |      > mean_v = True/False, Calculate mean of velocity \n",
      " |      > std = True/False, Calculate std \n",
      " |      > std_v = True/False, Calculate std of velocity \n",
      " |      > entropy = True/False, Calculate entropy \n",
      " |      > entropy_v = True/False, Calculate entropy of velocity \n",
      " |      > info_rate = True/False, Calculate information rate\n",
      " |      > info_rate_v = True/False, Calculate information rate of velocity\n",
      " |  \n",
      " |  simulate(self, t_init: float, t_end: float, init_mean: float, init_std: float)\n",
      " |      > t_init : float, inital time \n",
      " |      > t_end : float, final time\n",
      " |      > init_mean : float, mean of initial distribution\n",
      " |      > init_std : float, standard deviation of initial distribution\n",
      " |  \n",
      " |  ----------------------------------------------------------------------\n",
      " |  Data descriptors defined here:\n",
      " |  \n",
      " |  __dict__\n",
      " |      dictionary for instance variables (if defined)\n",
      " |  \n",
      " |  __weakref__\n",
      " |      list of weak references to the object (if defined)\n",
      " |  \n",
      " |  tolerance\n",
      " |  \n",
      " |  velocity_avg_dt\n",
      " |  \n",
      " |  ----------------------------------------------------------------------\n",
      " |  Data and other attributes defined here:\n",
      " |  \n",
      " |  entropy = <torch.jit.ScriptFunction object>\n",
      " |  \n",
      " |  \n",
      " |  histogram = <torch.jit.ScriptFunction object>\n",
      " |  \n",
      " |  \n",
      " |  info_rate = <torch.jit.ScriptFunction object>\n",
      "\n"
     ]
    }
   ],
   "source": [
    "help(SDE)"
   ]
  },
  {
   "cell_type": "code",
   "execution_count": null,
   "id": "79dd1c66",
   "metadata": {
    "scrolled": true
   },
   "outputs": [],
   "source": [
    "sim = SDE(1_000_000, dtype = 'float64', method = 'milstein', device = 'cuda', tolerance=1e-3)\n",
    "f = lambda x: -x\n",
    "g = lambda x: 0.1\n",
    "df = lambda x: -1.0\n",
    "sim.set_functions(f, g, df)\n",
    "sim.set_stats(info_rate=True, info_rate_v=True, density= True, density_v= True, mean_v=True, std_v=True, mean=True, std=True, entropy=True,entropy_v=True)\n",
    "sim.simulate(t_init=0, t_end=100, init_mean=100, init_std=0.0001)\n",
    "sim.save_data(output_directory = 'data', filename = 'data1.dic')"
   ]
  },
  {
   "cell_type": "markdown",
   "id": "9a400e45",
   "metadata": {},
   "source": [
    "# N Dimensional Example\n",
    "\n",
    "This section is still under development."
   ]
  },
  {
   "cell_type": "code",
   "execution_count": null,
   "id": "a156d92b",
   "metadata": {},
   "outputs": [],
   "source": [
    "from SDEsim import SDE_ND"
   ]
  },
  {
   "cell_type": "code",
   "execution_count": null,
   "id": "d3c5703d",
   "metadata": {},
   "outputs": [],
   "source": [
    "sim = SDE_ND(1_000_000, dims = 5, dtype='float64', device = 'cuda', method='milstein', dt_init=1e-10)\n",
    "sim.debug=False\n",
    "sim.tolerance = 1e-3\n",
    "f = lambda x: -x\n",
    "g = lambda x: 0.1\n",
    "df = lambda x:-1.0\n",
    "sim.set_functions((f,g,df), ('-y4',g,df), ('-y2',g,df), (f,g,df), (f,g,df))\n",
    "sim.set_stats(mean=True, std=True)\n",
    "sim.simulate(0, 1, (100,1,1,1, 1), 0.000001)\n",
    "#sim.save_data(output_directory = 'temp', filename = 'temp.dic')"
   ]
  }
 ],
 "metadata": {
  "kernelspec": {
   "display_name": "Python 3 (ipykernel)",
   "language": "python",
   "name": "python3"
  },
  "language_info": {
   "codemirror_mode": {
    "name": "ipython",
    "version": 3
   },
   "file_extension": ".py",
   "mimetype": "text/x-python",
   "name": "python",
   "nbconvert_exporter": "python",
   "pygments_lexer": "ipython3",
   "version": "3.7.11"
  }
 },
 "nbformat": 4,
 "nbformat_minor": 5
}
