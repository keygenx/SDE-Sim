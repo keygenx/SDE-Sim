{
 "cells": [
  {
   "cell_type": "markdown",
   "id": "6ff49b78",
   "metadata": {},
   "source": [
    "## $dY_{t} =  f(Y_{t}) \\,dt + g(Y_{t})\\, dW_{t}$\n",
    "\n",
    "General Form of SDE"
   ]
  },
  {
   "cell_type": "markdown",
   "id": "2121a633",
   "metadata": {},
   "source": [
    "# 1 Dimensional Example\n"
   ]
  },
  {
   "cell_type": "code",
   "execution_count": 2,
   "id": "88998d39",
   "metadata": {},
   "outputs": [],
   "source": [
    "from SDEsim import SDE\n",
    "#help(SDE)"
   ]
  },
  {
   "cell_type": "markdown",
   "id": "60ace6c5",
   "metadata": {},
   "source": [
    "### $dY_t =  -Y_t \\,dt + 0.1\\,dW_t$"
   ]
  },
  {
   "cell_type": "code",
   "execution_count": 44,
   "id": "79dd1c66",
   "metadata": {
    "scrolled": true
   },
   "outputs": [],
   "source": [
    "#Declaring a simulation with 40,000,000 parallel solvers\n",
    "sim = SDE(1_000_000, dtype = 'float64', method = 'milstein', device = 'cuda', tolerance=1e-4, dt_init=1e-14)\n",
    "\n",
    "#Inputting simulation equation\n",
    "f = lambda y: -y #drift\n",
    "g = lambda y: 0.01 #diffusion\n",
    "dg = lambda y: 0.0 #derivative of g, not required when method = 'euler_maruyama'\n",
    "df = lambda y: -1.0 #derivative of drift, it is required for measuring information rate of velocity or if using methods with higher order than milstein\n",
    "#sim.debug=False\n",
    "sim.set_functions(f, g, df, dg) #if dg or df not given it will automatically be assumed to be 0.\n",
    "#Setting up stats measurements, with collection_frequency, once every 2 time steps\n",
    "sim.set_stats(info_rate=True, info_rate_v=False, density= False, density_v=False, mean_v=False, std_v=False, mean=True, std=True, entropy=False,entropy_v=False,collection_frequency=1)"
   ]
  },
  {
   "cell_type": "code",
   "execution_count": 45,
   "id": "903f6ce4",
   "metadata": {},
   "outputs": [
    {
     "name": "stdout",
     "output_type": "stream",
     "text": [
      "Starting Simulation...\n",
      "<==================================================> dt: 2.90e-02 acc: 3695 rej: 145 ETA: -0s                 \n",
      "Simulation Finished: 6.24s\n"
     ]
    }
   ],
   "source": [
    "#run simulation\n",
    "sim.simulate(t_init=0, t_end=100, init_mean=10.0, init_std=0.00001)\n",
    "#save data\n",
    "sim.save_data(output_directory = r'data', filename = f'linear.dic')"
   ]
  },
  {
   "cell_type": "markdown",
   "id": "4f84566c",
   "metadata": {},
   "source": [
    "### $dY_t =  -\\left(Y_t^3 - 2Y_t\\right)\\,dt+0.8\\,dW_t$"
   ]
  },
  {
   "cell_type": "code",
   "execution_count": null,
   "id": "7da10082",
   "metadata": {},
   "outputs": [],
   "source": [
    "f = lambda y: -y**3 + 2*y #drift\n",
    "g = lambda y: 0.8 #diffusion\n",
    "dg = lambda y: 0.0 #derivative of g, not required when method = 'euler_maruyama'\n",
    "df = lambda y: -3*y**2 + 2 #derivative of drift, it is required for measuring information rate of velocity or if using methods with higher order than milstein\n",
    "sim.set_functions(f, g, df,dg)\n",
    "\n",
    "sim.simulate(t_init=0, t_end=100, init_mean=0.0, init_std=0.5)\n",
    "sim.save_data(output_directory = r'data', filename = f'non_linear.dic')"
   ]
  },
  {
   "cell_type": "markdown",
   "id": "76b9ddad",
   "metadata": {},
   "source": [
    "## Custom Measurement: Auto-Correlation Time\n",
    "\n",
    "Auto-Correlation is defined as:\n",
    "$\n",
    "\\mathcal{C}(t,t') := \\langle \\delta Y(t) \\delta Y(t') \\rangle\n",
    "$\n",
    "<br>\n",
    "$\n",
    "\\delta Y(t) := Y(t) - \\langle Y(t) \\rangle\n",
    "$\n",
    "<br>\n",
    "Normalized Auto-Correlation is defined as:\n",
    "$\n",
    "\\mathcal{\\tilde{C}}(t,t') := \\frac{\\langle \\delta Y(t) \\delta Y(t') \\rangle}{\\sqrt{\\langle \\delta Y(t)^2 \\rangle \\langle \\delta Y(t')^2 \\rangle}}\n",
    "$\n",
    "<br>\n",
    "Correlation functions usually depends on time intervals.\n",
    "$\n",
    "\\mathcal{C}(t,t') \\equiv \\mathcal{C}(t-t') \n",
    "$\n",
    "<br>\n",
    "$\n",
    "\\tau := t-t'\n",
    "$\n",
    "\n",
    "Correlation time is defined as:\n",
    "$\n",
    "\\tau_{c}(t')=\\int_{0}^{\\infty} d t \\mathcal{\\tilde{C}}(t,t')\n",
    "$"
   ]
  },
  {
   "cell_type": "code",
   "execution_count": null,
   "id": "72d7ef35",
   "metadata": {},
   "outputs": [],
   "source": [
    "import torch\n",
    "import numpy as np\n",
    "\n",
    "sim = SDE(1_000_000, dtype = 'float64', method = 'milstein', device = 'cuda', tolerance=1e-5, dt_init=1e-10)\n",
    "f = lambda y: -y #drift\n",
    "g = lambda y: 0.1 #diffusion\n",
    "dg = lambda y: 0.0 #derivative of g, not required when method = 'euler_maruyama'\n",
    "df = lambda y: -1.0 #derivative of drift, it is required for measuring information rate of velocity or if using methods with higher order than milstein\n",
    "\n",
    "sim.set_functions(f, g, df, dg)\n",
    "#sim.initialize(t_init=0, t_end=100, init_mean=100, init_std=0.0001)"
   ]
  },
  {
   "cell_type": "code",
   "execution_count": 16,
   "id": "2b4676a5",
   "metadata": {},
   "outputs": [
    {
     "name": "stdout",
     "output_type": "stream",
     "text": [
      "0.00017613502839011443 0.005702335349977655\r"
     ]
    }
   ],
   "source": [
    "t_prime = 1e-10\n",
    "\n",
    "#If initial dt greater than t_prime, make it smaller.\n",
    "if sim.dt_init>t_prime: \n",
    "    sim.dt_init *= 0 #to preserve the datastructure\n",
    "    sim.dt_init += t_prime*0.1 #start with a smaller initial dt that required smalled t_prime value\n",
    "    \n",
    "sim.initialize(t_init=0, t_end=100, init_mean=1e5, init_std=0.00001)\n",
    "\n",
    "#Get the value of y at t_prime\n",
    "while(sim.t < t_prime):\n",
    "    if sim.t+sim.dt > t_prime:\n",
    "        sim.dt = t_prime - sim.t\n",
    "    sim.step()\n",
    "y_0 = sim.y\n",
    "\n",
    "corr_list = []\n",
    "t_list = []\n",
    "\n",
    "while(normalized_corr>1e-4): #Truncate measurement of normalized correlation according to some criteria\n",
    "    normalized_corr = (torch.mean(y_0*sim.y)-y_0.mean()*sim.y.mean())/(y_0.std()*sim.y.std())\n",
    "    corr_list.append(normalized_corr)\n",
    "    t_list.append(sim.t)\n",
    "    sim.step()\n",
    "    print(sim.t.item(), normalized_corr.item(), end='\\r')\n",
    "\n",
    "tau_c = torch.trapz(torch.stack(corr_list), torch.stack(t_list))"
   ]
  },
  {
   "cell_type": "markdown",
   "id": "e2f595a6",
   "metadata": {},
   "source": [
    "# N Dimensional Example\n",
    "\n",
    "$\n",
    "\\partial_{t} \\mathcal{E}=\\mathcal{E} \\mathcal{N}-a_{1} \\mathcal{E}^{2}-a_{2} V^{2} \\mathcal{E}-a_{3} V_{\\mathrm{ZF}}^{2} \\mathcal{E} \n",
    "\\\\\n",
    "\\partial_{t} V_{\\mathrm{ZF}}=b_{1} \\frac{\\mathcal{E} V_{\\mathrm{ZF}}}{1+b_{2} V^{2}}-b_{3} V_{\\mathrm{ZF}} \n",
    "\\\\\n",
    "\\partial_{t} \\mathcal{N}=-c_{1} \\mathcal{E} \\mathcal{N}-c_{2} \\mathcal{N}+t_c \\, t + 0.001\\,dW_t\n",
    "$\n",
    "\n",
    "<br>\n",
    "These equations are stiff. Numerical solution requires very small tolerance. This will cause significant slow down.\n",
    "This method is only advantageus when running large number of parallel simulations (order of millions) with CUDA."
   ]
  },
  {
   "cell_type": "code",
   "execution_count": null,
   "id": "f4a8efe1",
   "metadata": {},
   "outputs": [],
   "source": [
    "from SDEsim import SDE_ND"
   ]
  },
  {
   "cell_type": "code",
   "execution_count": null,
   "id": "f20742d6",
   "metadata": {},
   "outputs": [],
   "source": [
    "sim = SDE_ND(2_000_000, dims = 3, dtype='float64', device = 'cuda', method='milstein', dt_init=1e-10)"
   ]
  },
  {
   "cell_type": "code",
   "execution_count": null,
   "id": "b85800fe",
   "metadata": {},
   "outputs": [],
   "source": [
    "sim.debug=True\n",
    "\n",
    "sim.tolerance = 1e-9 #very low tolerance because of stiffness in the equation\n",
    "sim.facmax = 1.05 #the adaptive step size will increase by a maximum factor of 1.05\n",
    "\n",
    "a1, a2, a3 = 0.2, 0.7, 0.7\n",
    "b1, b2, b3 = 1.5, 1, 1\n",
    "c1, c2, d = 1, 0.5, 1\n",
    "tc = 0.01\n",
    "\n",
    "f0 = f'y0*y2 - {a1}*y0**2 - {a2*d**2}*y2**4*y0 - {a3}*y1**2*y0'\n",
    "f1 = f'{b1}*y0*y1/(1+{b2*d**2}*y2**4) - {b3}*y1'\n",
    "f2 = f'-{c1}*y0*y2 - {c2}*y2 + {tc}*t + 0.1'\n",
    "\n",
    "g0 = 0\n",
    "g1 = 0\n",
    "g2 = lambda x: 1e-3\n",
    "\n",
    "#dg (derivative of g) is 0 for all cases so not given\n",
    "sim.set_functions((f0,g0),(f1,g1),(f2,g2))\n",
    "#collection_frequency=10, collects stats every 10 time steps.\n",
    "sim.set_stats(mean_v = True, std_v = True, mean=True, std=True, entropy=True, density=True, entropy_v=True, collection_frequency=10)\n"
   ]
  },
  {
   "cell_type": "code",
   "execution_count": null,
   "id": "d712aa04",
   "metadata": {},
   "outputs": [],
   "source": [
    "sim.simulate(t_init=0, t_end=200, init_mean=0.01, init_std=0.0)\n",
    "#sim.save_data(output_directory = r'data', filename = f'ND.dic')"
   ]
  },
  {
   "cell_type": "markdown",
   "id": "024ad053",
   "metadata": {},
   "source": [
    "### Plotting"
   ]
  },
  {
   "cell_type": "code",
   "execution_count": null,
   "id": "4aeb30ba",
   "metadata": {},
   "outputs": [],
   "source": [
    "import matplotlib.pyplot as plt\n",
    "\n",
    "plt.figure()\n",
    "x = sim.data['t'][::]*0.01\n",
    "eqs = [r'$\\mathcal{\\epsilon}$', r'$V_{ZF}$', r'$\\mathcal{N}/5$']\n",
    "\n",
    "for i in range(3):\n",
    "    y = sim.data['mean(t)'][::,i]\n",
    "    y_std = sim.data['std(t)'][::,i]*10\n",
    "    if i==2: y=y/5; y_std=y_std/5\n",
    "        \n",
    "    plt.plot(x, y, label = eqs[i])\n",
    "    plt.fill_between(x, y-y_std, y+y_std, alpha=0.3)\n",
    "    \n",
    "#x = temp.data['t'][::]*0.01\n",
    "eqs = ['1e-5::'+i for i in eqs]\n",
    "\n",
    "plt.xlabel('Q')\n",
    "plt.ylabel('y')\n",
    "plt.legend()\n",
    "#plt.yscale('log')\n",
    "plt.show()"
   ]
  },
  {
   "cell_type": "markdown",
   "id": "baf59003",
   "metadata": {},
   "source": [
    "# Experiments\n",
    "### Ignore this section.\n",
    "\n",
    "$d X_{t}=\\left[-1000 X_{t}\\left(1-X_{t}\\right)\\left(2-X_{t}\\right)\\right] d t+10\\, d W_{t}, \\quad X_{0}=2, \\quad t \\in[0,5]$"
   ]
  },
  {
   "cell_type": "code",
   "execution_count": 37,
   "id": "d85e0fd9",
   "metadata": {},
   "outputs": [
    {
     "name": "stdout",
     "output_type": "stream",
     "text": [
      "Warning: Assuming derivative of diffusion is 0 throughout the domain\n"
     ]
    }
   ],
   "source": [
    "#help(SDE)\n",
    "#Declaring a simulation with 40,000,000 parallel solvers\n",
    "sim = SDE(1, dtype = 'float64', method = 'milstein', device = 'cpu', tolerance=1e-6)\n",
    "#Inputting simulation equation\n",
    "f = lambda x: -1000*x*(1-x)*(2-x) #drift\n",
    "g = lambda y: 10 #diffusion\n",
    "\n",
    "#sim.debug=False\n",
    "sim.set_functions(f, g) #if dg or df not given it will automatically be assumed to be 0.\n",
    "#Setting up stats measurements, with collection_frequency, once every 2 time steps\n",
    "sim.set_stats(info_rate=True, info_rate_v=False, density= True, density_v=False, mean_v=False, std_v=False, mean=True, std=True, entropy=False,entropy_v=False,collection_frequency=2)"
   ]
  },
  {
   "cell_type": "code",
   "execution_count": 38,
   "id": "f4e8b2e2",
   "metadata": {},
   "outputs": [
    {
     "name": "stdout",
     "output_type": "stream",
     "text": [
      "Starting Simulation...\n",
      "<=________________________________________________> dt: 5.90e-07 acc: 530938 rej: 312683 ETA: 6993s          \r"
     ]
    },
    {
     "ename": "KeyboardInterrupt",
     "evalue": "",
     "output_type": "error",
     "traceback": [
      "\u001b[1;31m---------------------------------------------------------------------------\u001b[0m",
      "\u001b[1;31mKeyboardInterrupt\u001b[0m                         Traceback (most recent call last)",
      "\u001b[1;32m~\\AppData\\Local\\Temp/ipykernel_29884/2664202115.py\u001b[0m in \u001b[0;36m<module>\u001b[1;34m\u001b[0m\n\u001b[1;32m----> 1\u001b[1;33m \u001b[0msim\u001b[0m\u001b[1;33m.\u001b[0m\u001b[0msimulate\u001b[0m\u001b[1;33m(\u001b[0m\u001b[0mt_init\u001b[0m\u001b[1;33m=\u001b[0m\u001b[1;36m0\u001b[0m\u001b[1;33m,\u001b[0m \u001b[0mt_end\u001b[0m\u001b[1;33m=\u001b[0m\u001b[1;36m5\u001b[0m\u001b[1;33m,\u001b[0m \u001b[0minit_mean\u001b[0m\u001b[1;33m=\u001b[0m\u001b[1;36m3\u001b[0m\u001b[1;33m,\u001b[0m \u001b[0minit_std\u001b[0m\u001b[1;33m=\u001b[0m\u001b[1;36m0\u001b[0m\u001b[1;33m)\u001b[0m\u001b[1;33m\u001b[0m\u001b[1;33m\u001b[0m\u001b[0m\n\u001b[0m",
      "\u001b[1;32m~\\OneDrive - Coventry University\\Codes\\SDE Sim\\SDEsim\\SDE.py\u001b[0m in \u001b[0;36msimulate\u001b[1;34m(self, t_init, t_end, init_mean, init_std)\u001b[0m\n\u001b[0;32m    593\u001b[0m \u001b[1;33m\u001b[0m\u001b[0m\n\u001b[0;32m    594\u001b[0m             \u001b[1;31m########Compute Statistics##############################\u001b[0m\u001b[1;33m\u001b[0m\u001b[1;33m\u001b[0m\u001b[1;33m\u001b[0m\u001b[0m\n\u001b[1;32m--> 595\u001b[1;33m             \u001b[0mself\u001b[0m\u001b[1;33m.\u001b[0m\u001b[0m_collect_stats\u001b[0m\u001b[1;33m(\u001b[0m\u001b[0my_new\u001b[0m\u001b[1;33m,\u001b[0m \u001b[0my\u001b[0m\u001b[1;33m,\u001b[0m \u001b[0mdt\u001b[0m\u001b[1;33m)\u001b[0m\u001b[1;33m\u001b[0m\u001b[1;33m\u001b[0m\u001b[0m\n\u001b[0m\u001b[0;32m    596\u001b[0m \u001b[1;33m\u001b[0m\u001b[0m\n\u001b[0;32m    597\u001b[0m             \u001b[0my\u001b[0m \u001b[1;33m=\u001b[0m \u001b[0my_new\u001b[0m\u001b[1;33m\u001b[0m\u001b[1;33m\u001b[0m\u001b[0m\n",
      "\u001b[1;32m~\\OneDrive - Coventry University\\Codes\\SDE Sim\\SDEsim\\SDE.py\u001b[0m in \u001b[0;36m_collect_stats\u001b[1;34m(self, y_new, y, dt, init)\u001b[0m\n\u001b[0;32m    528\u001b[0m \u001b[1;33m\u001b[0m\u001b[0m\n\u001b[0;32m    529\u001b[0m         \u001b[1;32mif\u001b[0m \u001b[0mself\u001b[0m\u001b[1;33m.\u001b[0m\u001b[0m_calc_density\u001b[0m\u001b[1;33m:\u001b[0m\u001b[1;33m\u001b[0m\u001b[1;33m\u001b[0m\u001b[0m\n\u001b[1;32m--> 530\u001b[1;33m             \u001b[0mprob_density\u001b[0m\u001b[1;33m,\u001b[0m \u001b[0mbin_centre\u001b[0m \u001b[1;33m=\u001b[0m \u001b[0mself\u001b[0m\u001b[1;33m.\u001b[0m\u001b[0mhistogram\u001b[0m\u001b[1;33m(\u001b[0m\u001b[0my_new\u001b[0m\u001b[1;33m,\u001b[0m \u001b[0mdensity\u001b[0m\u001b[1;33m=\u001b[0m\u001b[1;32mTrue\u001b[0m\u001b[1;33m)\u001b[0m\u001b[1;33m\u001b[0m\u001b[1;33m\u001b[0m\u001b[0m\n\u001b[0m\u001b[0;32m    531\u001b[0m             \u001b[0mself\u001b[0m\u001b[1;33m.\u001b[0m\u001b[0mdata\u001b[0m\u001b[1;33m[\u001b[0m\u001b[1;34m'p(y,t)'\u001b[0m\u001b[1;33m]\u001b[0m\u001b[1;33m.\u001b[0m\u001b[0mappend\u001b[0m\u001b[1;33m(\u001b[0m\u001b[0mprob_density\u001b[0m\u001b[1;33m.\u001b[0m\u001b[0mto\u001b[0m\u001b[1;33m(\u001b[0m\u001b[1;34m'cpu'\u001b[0m\u001b[1;33m)\u001b[0m\u001b[1;33m)\u001b[0m\u001b[1;33m\u001b[0m\u001b[1;33m\u001b[0m\u001b[0m\n\u001b[0;32m    532\u001b[0m             \u001b[0mself\u001b[0m\u001b[1;33m.\u001b[0m\u001b[0mdata\u001b[0m\u001b[1;33m[\u001b[0m\u001b[1;34m'y'\u001b[0m\u001b[1;33m]\u001b[0m\u001b[1;33m.\u001b[0m\u001b[0mappend\u001b[0m\u001b[1;33m(\u001b[0m\u001b[0mbin_centre\u001b[0m\u001b[1;33m.\u001b[0m\u001b[0mto\u001b[0m\u001b[1;33m(\u001b[0m\u001b[1;34m'cpu'\u001b[0m\u001b[1;33m)\u001b[0m\u001b[1;33m)\u001b[0m\u001b[1;33m\u001b[0m\u001b[1;33m\u001b[0m\u001b[0m\n",
      "\u001b[1;31mKeyboardInterrupt\u001b[0m: "
     ]
    }
   ],
   "source": [
    "sim.simulate(t_init=0, t_end=5, init_mean=3, init_std=0)"
   ]
  },
  {
   "cell_type": "code",
   "execution_count": null,
   "id": "e9d526ed",
   "metadata": {},
   "outputs": [],
   "source": []
  }
 ],
 "metadata": {
  "kernelspec": {
   "display_name": "Python 3 (ipykernel)",
   "language": "python",
   "name": "python3"
  },
  "language_info": {
   "codemirror_mode": {
    "name": "ipython",
    "version": 3
   },
   "file_extension": ".py",
   "mimetype": "text/x-python",
   "name": "python",
   "nbconvert_exporter": "python",
   "pygments_lexer": "ipython3",
   "version": "3.7.11"
  }
 },
 "nbformat": 4,
 "nbformat_minor": 5
}
