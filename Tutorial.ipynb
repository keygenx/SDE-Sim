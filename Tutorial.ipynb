{
 "cells": [
  {
   "cell_type": "markdown",
   "id": "2121a633",
   "metadata": {},
   "source": [
    "# 1 Dimensional Example\n",
    "\n",
    "$dY_{t} =  -f(Y) \\,dt + g(Y)\\, dW_{t}$"
   ]
  },
  {
   "cell_type": "code",
   "execution_count": null,
   "id": "41ad8b10",
   "metadata": {},
   "outputs": [],
   "source": [
    "from SDEsim import SDE"
   ]
  },
  {
   "cell_type": "code",
   "execution_count": null,
   "id": "6b9c63fd",
   "metadata": {},
   "outputs": [],
   "source": [
    "#help(SDE)\n",
    "#Declaring a simulation with 40,000,000 parallel solvers\n",
    "sim = SDE(40_000_000, dtype = 'float64', method = 'milstein', device = 'cuda', tolerance=1e-4)"
   ]
  },
  {
   "cell_type": "markdown",
   "id": "d8b4f67b",
   "metadata": {},
   "source": [
    "### $dY_{t} =  -Y \\,dt + 0.1\\,dW_{t}$"
   ]
  },
  {
   "cell_type": "code",
   "execution_count": null,
   "id": "79dd1c66",
   "metadata": {
    "scrolled": true
   },
   "outputs": [],
   "source": [
    "#Inputting simulation equation\n",
    "f = lambda y: -y #drift\n",
    "g = lambda y: 0.1 #diffusion\n",
    "dg = lambda y: 0.0 #derivative of g, not required when method = 'euler_maruyama'\n",
    "df = lambda y: -1.0 #derivative of drift, it is required for measuring information rate of velocity or if using methods with higher order than milstein\n",
    "#sim.debug=False\n",
    "sim.set_functions(f, g, df, dg) #if dg or df not given it will automatically be assumed to be 0.\n",
    "#Setting up stats measurements, with collection_frequency, once every 2 time steps\n",
    "sim.set_stats(info_rate=True, info_rate_v=True, density= True, density_v=False, mean_v=False, std_v=False, mean=True, std=True, entropy=False,entropy_v=False,collection_frequency=2)"
   ]
  },
  {
   "cell_type": "code",
   "execution_count": null,
   "id": "903f6ce4",
   "metadata": {},
   "outputs": [],
   "source": [
    "#run simulation\n",
    "sim.simulate(t_init=0, t_end=100, init_mean=100, init_std=0.0001)\n",
    "#save data\n",
    "sim.save_data(output_directory = r'data', filename = f'linear.dic')"
   ]
  },
  {
   "cell_type": "markdown",
   "id": "4f84566c",
   "metadata": {},
   "source": [
    "### $dY_{t} =  -\\left(Y^3 - 2Y\\right)\\,dt+0.8\\,dW_{t}$"
   ]
  },
  {
   "cell_type": "code",
   "execution_count": null,
   "id": "7da10082",
   "metadata": {},
   "outputs": [],
   "source": [
    "f = lambda y: -y**3 + 2*y #drift\n",
    "g = lambda y: 0.8 #diffusion\n",
    "dg = lambda y: 0.0 #derivative of g, not required when method = 'euler_maruyama'\n",
    "df = lambda y: -3*y**2 + 2 #derivative of drift, it is required for measuring information rate of velocity or if using methods with higher order than milstein\n",
    "sim.set_functions(f, g, df,dg)\n",
    "\n",
    "sim.simulate(t_init=0, t_end=100, init_mean=0.0, init_std=0.5)\n",
    "sim.save_data(output_directory = r'data', filename = f'non_linear.dic')"
   ]
  },
  {
   "cell_type": "markdown",
   "id": "e2f595a6",
   "metadata": {},
   "source": [
    "# N Dimensional Example\n",
    "\n",
    "$\n",
    "\\partial_{t} \\mathcal{E}=\\mathcal{E} \\mathcal{N}-a_{1} \\mathcal{E}^{2}-a_{2} V^{2} \\mathcal{E}-a_{3} V_{\\mathrm{ZF}}^{2} \\mathcal{E} \\\\\n",
    "\\partial_{t} V_{\\mathrm{ZF}}=b_{1} \\frac{\\mathcal{E} V_{\\mathrm{ZF}}}{1+b_{2} V^{2}}-b_{3} V_{\\mathrm{ZF}} \\\\\n",
    "\\partial_{t} \\mathcal{N}=-c_{1} \\mathcal{E} \\mathcal{N}-c_{2} \\mathcal{N}+t_c \\, t + 0.001\\,dW_t\n",
    "$\n",
    "\n",
    "<br>\n",
    "These equations are stiff. Numerical solution requires very small tolerance. This will cause significant slow down.\n",
    "This method is only advantageus when running large number of parallel simulations (order of millions) with CUDA."
   ]
  },
  {
   "cell_type": "code",
   "execution_count": null,
   "id": "f4a8efe1",
   "metadata": {},
   "outputs": [],
   "source": [
    "from SDEsim import SDE_ND"
   ]
  },
  {
   "cell_type": "code",
   "execution_count": null,
   "id": "f20742d6",
   "metadata": {},
   "outputs": [],
   "source": [
    "sim = SDE_ND(2_000_000, dims = 3, dtype='float64', device = 'cuda', method='milstein', dt_init=1e-10)"
   ]
  },
  {
   "cell_type": "code",
   "execution_count": null,
   "id": "b85800fe",
   "metadata": {},
   "outputs": [],
   "source": [
    "sim.debug=False\n",
    "\n",
    "sim.tolerance = 1e-9 #very low tolerance because of stiffness in the equation\n",
    "sim.facmax = 1.05 #the adaptive step size will increase by a maximum factor of 1.05\n",
    "\n",
    "a1, a2, a3 = 0.2, 0.7, 0.7\n",
    "b1, b2, b3 = 1.5, 1, 1\n",
    "c1, c2, d = 1, 0.5, 1\n",
    "tc = 0.01\n",
    "\n",
    "f0 = f'y0*y2 - {a1}*y0**2 - {a2*d**2}*y2**4*y0 - {a3}*y1**2*y0'\n",
    "f1 = f'{b1}*y0*y1/(1+{b2*d**2}*y2**4) - {b3}*y1'\n",
    "f2 = f'-{c1}*y0*y2 - {c2}*y2 + {tc}*t + 0.1'\n",
    "\n",
    "g0 = 0\n",
    "g1 = 0\n",
    "g2 = lambda x: 1e-3\n",
    "\n",
    "#dg (derivative of g) is 0 for all cases so not given\n",
    "sim.set_functions((f0,g0),(f1,g1),(f2,g2))\n",
    "#collection_frequency=10, collects stats every 10 time steps.\n",
    "sim.set_stats(mean_v = True, std_v = True, mean=True, std=True, entropy=True, density=True, entropy_v=True, collection_frequency=10)\n"
   ]
  },
  {
   "cell_type": "code",
   "execution_count": null,
   "id": "d712aa04",
   "metadata": {},
   "outputs": [],
   "source": [
    "sim.simulate(t_init=0, t_end=200, init_mean=0.01, init_std=0.0)\n",
    "sim.save_data(output_directory = r'data', filename = f'ND.dic')"
   ]
  },
  {
   "cell_type": "markdown",
   "id": "024ad053",
   "metadata": {},
   "source": [
    "### Plotting"
   ]
  },
  {
   "cell_type": "code",
   "execution_count": null,
   "id": "4aeb30ba",
   "metadata": {},
   "outputs": [],
   "source": [
    "import matplotlib.pyplot as plt\n",
    "\n",
    "plt.figure()\n",
    "x = sim.data['t'][::]*0.01\n",
    "eqs = [r'$\\mathcal{\\epsilon}$', r'$V_{ZF}$', r'$\\mathcal{N}/5$']\n",
    "\n",
    "for i in range(3):\n",
    "    y = sim.data['mean(t)'][::,i]\n",
    "    y_std = sim.data['std(t)'][::,i]*10\n",
    "    if i==2: y=y/5; y_std=y_std/5\n",
    "        \n",
    "    plt.plot(x, y, label = eqs[i])\n",
    "    plt.fill_between(x, y-y_std, y+y_std, alpha=0.3)\n",
    "    \n",
    "#x = temp.data['t'][::]*0.01\n",
    "eqs = ['1e-5::'+i for i in eqs]\n",
    "\n",
    "plt.xlabel('Q')\n",
    "plt.ylabel('y')\n",
    "plt.legend()\n",
    "#plt.yscale('log')\n",
    "plt.show()"
   ]
  }
 ],
 "metadata": {
  "kernelspec": {
   "display_name": "Python 3 (ipykernel)",
   "language": "python",
   "name": "python3"
  },
  "language_info": {
   "codemirror_mode": {
    "name": "ipython",
    "version": 3
   },
   "file_extension": ".py",
   "mimetype": "text/x-python",
   "name": "python",
   "nbconvert_exporter": "python",
   "pygments_lexer": "ipython3",
   "version": "3.7.11"
  }
 },
 "nbformat": 4,
 "nbformat_minor": 5
}
