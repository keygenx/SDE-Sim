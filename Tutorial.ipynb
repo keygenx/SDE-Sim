{
 "cells": [
  {
   "cell_type": "markdown",
   "id": "2121a633",
   "metadata": {},
   "source": [
    "# 1 Dimensional Example"
   ]
  },
  {
   "cell_type": "code",
   "execution_count": 2,
   "id": "41ad8b10",
   "metadata": {},
   "outputs": [],
   "source": [
    "from SDEsim import SDE"
   ]
  },
  {
   "cell_type": "code",
   "execution_count": 3,
   "id": "79dd1c66",
   "metadata": {
    "scrolled": true
   },
   "outputs": [
    {
     "name": "stdout",
     "output_type": "stream",
     "text": [
      "Warning: Assuming derivative of diffusion is 0 throughout the domain\n",
      "Warning: Stochastic processes doesn't have a well-defined instantaneous velocity. Therefore a finite time limit is considered. Change value of 'velocity_avg_dt' attribute to change the finite time interval\n",
      "Starting Simulation...\n",
      "<==================================================> dt: 3.03e-02 acc: 3660 rej: 159 ETA: -0s              \n",
      "Simulation Finished: 16.33s\n",
      "Output: data\\data1.dic, Size: 29.034543 MB\n"
     ]
    }
   ],
   "source": [
    "sim = SDE(1_000_000, dtype = 'float64', method = 'milstein', device = 'cuda', tolerance=1e-3)\n",
    "f = lambda x: -x #drift\n",
    "g = lambda x: 0.1 #diffusion\n",
    "df = lambda x: -1.0 #derivative of drift\n",
    "sim.set_functions(f, g, df)\n",
    "sim.set_stats(info_rate=True, info_rate_v=True, density= True, density_v= True, mean_v=True, std_v=True, mean=True, std=True, entropy=True,entropy_v=True)\n",
    "sim.simulate(t_init=0, t_end=100, init_mean=100, init_std=0.0001)\n",
    "sim.save_data(output_directory = 'data', filename = 'data1.dic')"
   ]
  },
  {
   "cell_type": "markdown",
   "id": "e2f595a6",
   "metadata": {},
   "source": [
    "# N Dimensional Example\n",
    "\n",
    "This section is still under development."
   ]
  },
  {
   "cell_type": "code",
   "execution_count": 1,
   "id": "f4a8efe1",
   "metadata": {},
   "outputs": [],
   "source": [
    "from SDEsim import SDE_ND"
   ]
  },
  {
   "cell_type": "code",
   "execution_count": 5,
   "id": "b85800fe",
   "metadata": {},
   "outputs": [
    {
     "name": "stdout",
     "output_type": "stream",
     "text": [
      "Warning: Only statistics for unconditional probability along each dimension can be measured with this implementation.                Stats for joint probability will be implemented in Future releases.\n",
      "Warning: Stochastic processes doesn't have a well-defined instantaneous velocity. Therefore a finite time limit is considered. Change value of 'velocity_avg_dt' attribute to change the finite time interval\n",
      "Starting Simulation...\n",
      "<==================================================> dt: 2.30e-02 acc: 4758 rej: 142 ETA: -0s              \n",
      "Simulation Finished: 47.78s\n"
     ]
    }
   ],
   "source": [
    "sim = SDE_ND(1_000_000, dims = 5, dtype='float64', device = 'cuda', method='milstein', dt_init=1e-10)\n",
    "sim.debug=False\n",
    "sim.tolerance = 1e-3\n",
    "f = lambda x: -x\n",
    "g = lambda x: 0.1\n",
    "df = lambda x:-1.0\n",
    "sim.set_functions((f,g,df), ('-y4',g,df), ('-y2',g,df), (f,g,df), (f,g,df))\n",
    "sim.set_stats(mean=True, std=True, entropy=True, density=True, entropy_v=True)\n",
    "sim.simulate(0, 100, 100, 0.000001)\n",
    "#sim.save_data(output_directory = 'temp', filename = 'temp.dic')"
   ]
  },
  {
   "cell_type": "code",
   "execution_count": 147,
   "id": "74a365aa",
   "metadata": {},
   "outputs": [],
   "source": [
    "import torch\n",
    "y1 = torch.normal(size = (1, 1_000_000, ), mean =0, std = 1.0, device=torch.device('cuda'), dtype=torch.float64)\n",
    "y2 = torch.normal(size = (10000000, ), mean = 0.2, std = 1.0, device=torch.device('cuda'))\n",
    "dt = torch.tensor(1.0, device=torch.device('cuda'))\n",
    "#x = info_rate(y1,y2,dt)\n",
    "#print(i,torch.abs(x[:,0]-x[:,2]).mean(), torch.abs(x[:,1]-x[:,2]).mean())"
   ]
  }
 ],
 "metadata": {
  "kernelspec": {
   "display_name": "Python 3 (ipykernel)",
   "language": "python",
   "name": "python3"
  },
  "language_info": {
   "codemirror_mode": {
    "name": "ipython",
    "version": 3
   },
   "file_extension": ".py",
   "mimetype": "text/x-python",
   "name": "python",
   "nbconvert_exporter": "python",
   "pygments_lexer": "ipython3",
   "version": "3.7.11"
  }
 },
 "nbformat": 4,
 "nbformat_minor": 5
}
